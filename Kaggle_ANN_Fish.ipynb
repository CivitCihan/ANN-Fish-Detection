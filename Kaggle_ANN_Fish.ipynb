{
 "cells": [
  {
   "cell_type": "markdown",
   "id": "a2a2cf4c",
   "metadata": {
    "papermill": {
     "duration": 0.005475,
     "end_time": "2024-10-22T22:12:42.535918",
     "exception": false,
     "start_time": "2024-10-22T22:12:42.530443",
     "status": "completed"
    },
    "tags": []
   },
   "source": [
    "# Import Library"
   ]
  },
  {
   "cell_type": "code",
   "execution_count": 1,
   "id": "fba6d821",
   "metadata": {
    "_cell_guid": "b1076dfc-b9ad-4769-8c92-a6c4dae69d19",
    "_uuid": "8f2839f25d086af736a60e9eeb907d3b93b6e0e5",
    "execution": {
     "iopub.execute_input": "2024-10-22T22:12:42.547690Z",
     "iopub.status.busy": "2024-10-22T22:12:42.547273Z",
     "iopub.status.idle": "2024-10-22T22:12:57.459158Z",
     "shell.execute_reply": "2024-10-22T22:12:57.457894Z"
    },
    "papermill": {
     "duration": 14.921065,
     "end_time": "2024-10-22T22:12:57.462085",
     "exception": false,
     "start_time": "2024-10-22T22:12:42.541020",
     "status": "completed"
    },
    "tags": []
   },
   "outputs": [],
   "source": [
    "import os\n",
    "import numpy as np\n",
    "import tensorflow as tf\n",
    "from tensorflow import keras\n",
    "from tensorflow.keras import layers\n",
    "from tensorflow.keras.preprocessing.image import ImageDataGenerator\n",
    "import pandas as pd"
   ]
  },
  {
   "cell_type": "markdown",
   "id": "31bd0583",
   "metadata": {
    "papermill": {
     "duration": 0.004643,
     "end_time": "2024-10-22T22:12:57.471906",
     "exception": false,
     "start_time": "2024-10-22T22:12:57.467263",
     "status": "completed"
    },
    "tags": []
   },
   "source": [
    "# Read The Dataset"
   ]
  },
  {
   "cell_type": "code",
   "execution_count": 2,
   "id": "ad3bc328",
   "metadata": {
    "execution": {
     "iopub.execute_input": "2024-10-22T22:12:57.483868Z",
     "iopub.status.busy": "2024-10-22T22:12:57.483197Z",
     "iopub.status.idle": "2024-10-22T22:12:57.496701Z",
     "shell.execute_reply": "2024-10-22T22:12:57.495521Z"
    },
    "papermill": {
     "duration": 0.02238,
     "end_time": "2024-10-22T22:12:57.499325",
     "exception": false,
     "start_time": "2024-10-22T22:12:57.476945",
     "status": "completed"
    },
    "tags": []
   },
   "outputs": [
    {
     "name": "stdout",
     "output_type": "stream",
     "text": [
      "['Hourse Mackerel', 'Black Sea Sprat', 'Sea Bass', 'Red Mullet', 'Trout', 'Striped Red Mullet', 'Shrimp', 'Gilt-Head Bream', 'Red Sea Bream']\n"
     ]
    }
   ],
   "source": [
    "fish_dir = '/kaggle/input/a-large-scale-fish-dataset/Fish_Dataset/Fish_Dataset' \n",
    "classes = [i for i in os.listdir(fish_dir) if '.' not in i]                    \n",
    "print(classes)"
   ]
  },
  {
   "cell_type": "code",
   "execution_count": 3,
   "id": "87a953ba",
   "metadata": {
    "execution": {
     "iopub.execute_input": "2024-10-22T22:12:57.511372Z",
     "iopub.status.busy": "2024-10-22T22:12:57.510920Z",
     "iopub.status.idle": "2024-10-22T22:13:00.654570Z",
     "shell.execute_reply": "2024-10-22T22:13:00.653372Z"
    },
    "papermill": {
     "duration": 3.15263,
     "end_time": "2024-10-22T22:13:00.657189",
     "exception": false,
     "start_time": "2024-10-22T22:12:57.504559",
     "status": "completed"
    },
    "tags": []
   },
   "outputs": [],
   "source": [
    "label = []\n",
    "path = []\n",
    "\n",
    "for dir_name, _,filenames in os.walk(fish_dir):                    \n",
    "    for filename in filenames:                                 \n",
    "        if os.path.splitext(filename)[-1]=='.png':               # If filename contains .png\n",
    "            if dir_name.split()[-1]!='GT':                       # If directory doesn't contain GT\n",
    "                label.append(os.path.split(dir_name)[-1])         # Append the directory name to label \n",
    "                path.append(os.path.join(dir_name,filename))     # Append all the png files to path of that directory\n",
    "\n",
    "data = pd.DataFrame(columns=['path','label'])\n",
    "data['path']=path\n",
    "data['label']=label"
   ]
  },
  {
   "cell_type": "markdown",
   "id": "12552845",
   "metadata": {
    "papermill": {
     "duration": 0.004707,
     "end_time": "2024-10-22T22:13:00.667145",
     "exception": false,
     "start_time": "2024-10-22T22:13:00.662438",
     "status": "completed"
    },
    "tags": []
   },
   "source": [
    "# Checking the distribution of the dataset"
   ]
  },
  {
   "cell_type": "code",
   "execution_count": 4,
   "id": "50ce5275",
   "metadata": {
    "execution": {
     "iopub.execute_input": "2024-10-22T22:13:00.679714Z",
     "iopub.status.busy": "2024-10-22T22:13:00.679281Z",
     "iopub.status.idle": "2024-10-22T22:13:00.696236Z",
     "shell.execute_reply": "2024-10-22T22:13:00.695090Z"
    },
    "papermill": {
     "duration": 0.02668,
     "end_time": "2024-10-22T22:13:00.698683",
     "exception": false,
     "start_time": "2024-10-22T22:13:00.672003",
     "status": "completed"
    },
    "tags": []
   },
   "outputs": [
    {
     "data": {
      "text/plain": [
       "label\n",
       "Hourse Mackerel       1000\n",
       "Black Sea Sprat       1000\n",
       "Sea Bass              1000\n",
       "Red Mullet            1000\n",
       "Trout                 1000\n",
       "Striped Red Mullet    1000\n",
       "Shrimp                1000\n",
       "Gilt-Head Bream       1000\n",
       "Red Sea Bream         1000\n",
       "Name: count, dtype: int64"
      ]
     },
     "execution_count": 4,
     "metadata": {},
     "output_type": "execute_result"
    }
   ],
   "source": [
    "data['label'].value_counts()"
   ]
  },
  {
   "cell_type": "code",
   "execution_count": 5,
   "id": "32b27f4c",
   "metadata": {
    "execution": {
     "iopub.execute_input": "2024-10-22T22:13:00.710555Z",
     "iopub.status.busy": "2024-10-22T22:13:00.710153Z",
     "iopub.status.idle": "2024-10-22T22:13:00.715301Z",
     "shell.execute_reply": "2024-10-22T22:13:00.714234Z"
    },
    "papermill": {
     "duration": 0.013881,
     "end_time": "2024-10-22T22:13:00.717665",
     "exception": false,
     "start_time": "2024-10-22T22:13:00.703784",
     "status": "completed"
    },
    "tags": []
   },
   "outputs": [],
   "source": [
    "batch_size = 32 # Grup Sayısı\n",
    "img_height = 224 # Verilerin Yükseklik değerini belirleme\n",
    "img_width = 224 # Verilerin Genişlik değerini belirleme"
   ]
  },
  {
   "cell_type": "code",
   "execution_count": 6,
   "id": "71220dd8",
   "metadata": {
    "execution": {
     "iopub.execute_input": "2024-10-22T22:13:00.729740Z",
     "iopub.status.busy": "2024-10-22T22:13:00.729308Z",
     "iopub.status.idle": "2024-10-22T22:13:00.735304Z",
     "shell.execute_reply": "2024-10-22T22:13:00.734024Z"
    },
    "papermill": {
     "duration": 0.014719,
     "end_time": "2024-10-22T22:13:00.737568",
     "exception": false,
     "start_time": "2024-10-22T22:13:00.722849",
     "status": "completed"
    },
    "tags": []
   },
   "outputs": [],
   "source": [
    "# Prepare data generators with rescaling and validation split\n",
    "train_datagen = ImageDataGenerator(\n",
    "    rescale=1./255, # Veri setini yeniden ölçeklendirme\n",
    "    validation_split=0.2)  # 20% oranında Onaylama Veri Setine bölüyoruz"
   ]
  },
  {
   "cell_type": "markdown",
   "id": "7a904091",
   "metadata": {
    "papermill": {
     "duration": 0.004838,
     "end_time": "2024-10-22T22:13:00.747545",
     "exception": false,
     "start_time": "2024-10-22T22:13:00.742707",
     "status": "completed"
    },
    "tags": []
   },
   "source": [
    "# Train seti ve Validation seti oluşturmak"
   ]
  },
  {
   "cell_type": "code",
   "execution_count": 7,
   "id": "849cb9e9",
   "metadata": {
    "execution": {
     "iopub.execute_input": "2024-10-22T22:13:00.759557Z",
     "iopub.status.busy": "2024-10-22T22:13:00.759142Z",
     "iopub.status.idle": "2024-10-22T22:13:01.521492Z",
     "shell.execute_reply": "2024-10-22T22:13:01.520281Z"
    },
    "papermill": {
     "duration": 0.771698,
     "end_time": "2024-10-22T22:13:01.524272",
     "exception": false,
     "start_time": "2024-10-22T22:13:00.752574",
     "status": "completed"
    },
    "tags": []
   },
   "outputs": [
    {
     "name": "stdout",
     "output_type": "stream",
     "text": [
      "Found 14400 images belonging to 9 classes.\n",
      "Found 3600 images belonging to 9 classes.\n"
     ]
    }
   ],
   "source": [
    "train_generator = train_datagen.flow_from_directory(\n",
    "    directory=fish_dir,\n",
    "    target_size=(img_height, img_width),\n",
    "    batch_size=batch_size,\n",
    "    subset='training',\n",
    "    class_mode='categorical')\n",
    "\n",
    "validation_generator = train_datagen.flow_from_directory(\n",
    "    directory=fish_dir,\n",
    "    target_size=(img_height, img_width),\n",
    "    batch_size=batch_size,\n",
    "    subset='validation',\n",
    "    class_mode='categorical')"
   ]
  },
  {
   "cell_type": "code",
   "execution_count": 8,
   "id": "3cb56e06",
   "metadata": {
    "execution": {
     "iopub.execute_input": "2024-10-22T22:13:01.536625Z",
     "iopub.status.busy": "2024-10-22T22:13:01.536217Z",
     "iopub.status.idle": "2024-10-22T22:13:01.541562Z",
     "shell.execute_reply": "2024-10-22T22:13:01.540377Z"
    },
    "papermill": {
     "duration": 0.014383,
     "end_time": "2024-10-22T22:13:01.543959",
     "exception": false,
     "start_time": "2024-10-22T22:13:01.529576",
     "status": "completed"
    },
    "tags": []
   },
   "outputs": [],
   "source": [
    "# Get the number of classes\n",
    "num_classes = len(train_generator.class_indices)"
   ]
  },
  {
   "cell_type": "markdown",
   "id": "a96dd4a0",
   "metadata": {
    "papermill": {
     "duration": 0.005091,
     "end_time": "2024-10-22T22:13:01.554651",
     "exception": false,
     "start_time": "2024-10-22T22:13:01.549560",
     "status": "completed"
    },
    "tags": []
   },
   "source": [
    "# ANN modeli tanımlamak"
   ]
  },
  {
   "cell_type": "code",
   "execution_count": 9,
   "id": "908eb525",
   "metadata": {
    "execution": {
     "iopub.execute_input": "2024-10-22T22:13:01.566715Z",
     "iopub.status.busy": "2024-10-22T22:13:01.566292Z",
     "iopub.status.idle": "2024-10-22T22:13:02.332044Z",
     "shell.execute_reply": "2024-10-22T22:13:02.330690Z"
    },
    "papermill": {
     "duration": 0.775033,
     "end_time": "2024-10-22T22:13:02.334802",
     "exception": false,
     "start_time": "2024-10-22T22:13:01.559769",
     "status": "completed"
    },
    "tags": []
   },
   "outputs": [
    {
     "name": "stderr",
     "output_type": "stream",
     "text": [
      "/opt/conda/lib/python3.10/site-packages/keras/src/layers/core/input_layer.py:25: UserWarning: Argument `input_shape` is deprecated. Use `shape` instead.\n",
      "  warnings.warn(\n"
     ]
    },
    {
     "data": {
      "text/html": [
       "<pre style=\"white-space:pre;overflow-x:auto;line-height:normal;font-family:Menlo,'DejaVu Sans Mono',consolas,'Courier New',monospace\"><span style=\"font-weight: bold\">Model: \"sequential\"</span>\n",
       "</pre>\n"
      ],
      "text/plain": [
       "\u001b[1mModel: \"sequential\"\u001b[0m\n"
      ]
     },
     "metadata": {},
     "output_type": "display_data"
    },
    {
     "data": {
      "text/html": [
       "<pre style=\"white-space:pre;overflow-x:auto;line-height:normal;font-family:Menlo,'DejaVu Sans Mono',consolas,'Courier New',monospace\">┏━━━━━━━━━━━━━━━━━━━━━━━━━━━━━━━━━┳━━━━━━━━━━━━━━━━━━━━━━━━┳━━━━━━━━━━━━━━━┓\n",
       "┃<span style=\"font-weight: bold\"> Layer (type)                    </span>┃<span style=\"font-weight: bold\"> Output Shape           </span>┃<span style=\"font-weight: bold\">       Param # </span>┃\n",
       "┡━━━━━━━━━━━━━━━━━━━━━━━━━━━━━━━━━╇━━━━━━━━━━━━━━━━━━━━━━━━╇━━━━━━━━━━━━━━━┩\n",
       "│ flatten (<span style=\"color: #0087ff; text-decoration-color: #0087ff\">Flatten</span>)               │ (<span style=\"color: #00d7ff; text-decoration-color: #00d7ff\">None</span>, <span style=\"color: #00af00; text-decoration-color: #00af00\">150528</span>)         │             <span style=\"color: #00af00; text-decoration-color: #00af00\">0</span> │\n",
       "├─────────────────────────────────┼────────────────────────┼───────────────┤\n",
       "│ dense (<span style=\"color: #0087ff; text-decoration-color: #0087ff\">Dense</span>)                   │ (<span style=\"color: #00d7ff; text-decoration-color: #00d7ff\">None</span>, <span style=\"color: #00af00; text-decoration-color: #00af00\">512</span>)            │    <span style=\"color: #00af00; text-decoration-color: #00af00\">77,070,848</span> │\n",
       "├─────────────────────────────────┼────────────────────────┼───────────────┤\n",
       "│ dense_1 (<span style=\"color: #0087ff; text-decoration-color: #0087ff\">Dense</span>)                 │ (<span style=\"color: #00d7ff; text-decoration-color: #00d7ff\">None</span>, <span style=\"color: #00af00; text-decoration-color: #00af00\">256</span>)            │       <span style=\"color: #00af00; text-decoration-color: #00af00\">131,328</span> │\n",
       "├─────────────────────────────────┼────────────────────────┼───────────────┤\n",
       "│ dense_2 (<span style=\"color: #0087ff; text-decoration-color: #0087ff\">Dense</span>)                 │ (<span style=\"color: #00d7ff; text-decoration-color: #00d7ff\">None</span>, <span style=\"color: #00af00; text-decoration-color: #00af00\">128</span>)            │        <span style=\"color: #00af00; text-decoration-color: #00af00\">32,896</span> │\n",
       "├─────────────────────────────────┼────────────────────────┼───────────────┤\n",
       "│ batch_normalization             │ (<span style=\"color: #00d7ff; text-decoration-color: #00d7ff\">None</span>, <span style=\"color: #00af00; text-decoration-color: #00af00\">128</span>)            │           <span style=\"color: #00af00; text-decoration-color: #00af00\">512</span> │\n",
       "│ (<span style=\"color: #0087ff; text-decoration-color: #0087ff\">BatchNormalization</span>)            │                        │               │\n",
       "├─────────────────────────────────┼────────────────────────┼───────────────┤\n",
       "│ dropout (<span style=\"color: #0087ff; text-decoration-color: #0087ff\">Dropout</span>)               │ (<span style=\"color: #00d7ff; text-decoration-color: #00d7ff\">None</span>, <span style=\"color: #00af00; text-decoration-color: #00af00\">128</span>)            │             <span style=\"color: #00af00; text-decoration-color: #00af00\">0</span> │\n",
       "├─────────────────────────────────┼────────────────────────┼───────────────┤\n",
       "│ dense_3 (<span style=\"color: #0087ff; text-decoration-color: #0087ff\">Dense</span>)                 │ (<span style=\"color: #00d7ff; text-decoration-color: #00d7ff\">None</span>, <span style=\"color: #00af00; text-decoration-color: #00af00\">9</span>)              │         <span style=\"color: #00af00; text-decoration-color: #00af00\">1,161</span> │\n",
       "└─────────────────────────────────┴────────────────────────┴───────────────┘\n",
       "</pre>\n"
      ],
      "text/plain": [
       "┏━━━━━━━━━━━━━━━━━━━━━━━━━━━━━━━━━┳━━━━━━━━━━━━━━━━━━━━━━━━┳━━━━━━━━━━━━━━━┓\n",
       "┃\u001b[1m \u001b[0m\u001b[1mLayer (type)                   \u001b[0m\u001b[1m \u001b[0m┃\u001b[1m \u001b[0m\u001b[1mOutput Shape          \u001b[0m\u001b[1m \u001b[0m┃\u001b[1m \u001b[0m\u001b[1m      Param #\u001b[0m\u001b[1m \u001b[0m┃\n",
       "┡━━━━━━━━━━━━━━━━━━━━━━━━━━━━━━━━━╇━━━━━━━━━━━━━━━━━━━━━━━━╇━━━━━━━━━━━━━━━┩\n",
       "│ flatten (\u001b[38;5;33mFlatten\u001b[0m)               │ (\u001b[38;5;45mNone\u001b[0m, \u001b[38;5;34m150528\u001b[0m)         │             \u001b[38;5;34m0\u001b[0m │\n",
       "├─────────────────────────────────┼────────────────────────┼───────────────┤\n",
       "│ dense (\u001b[38;5;33mDense\u001b[0m)                   │ (\u001b[38;5;45mNone\u001b[0m, \u001b[38;5;34m512\u001b[0m)            │    \u001b[38;5;34m77,070,848\u001b[0m │\n",
       "├─────────────────────────────────┼────────────────────────┼───────────────┤\n",
       "│ dense_1 (\u001b[38;5;33mDense\u001b[0m)                 │ (\u001b[38;5;45mNone\u001b[0m, \u001b[38;5;34m256\u001b[0m)            │       \u001b[38;5;34m131,328\u001b[0m │\n",
       "├─────────────────────────────────┼────────────────────────┼───────────────┤\n",
       "│ dense_2 (\u001b[38;5;33mDense\u001b[0m)                 │ (\u001b[38;5;45mNone\u001b[0m, \u001b[38;5;34m128\u001b[0m)            │        \u001b[38;5;34m32,896\u001b[0m │\n",
       "├─────────────────────────────────┼────────────────────────┼───────────────┤\n",
       "│ batch_normalization             │ (\u001b[38;5;45mNone\u001b[0m, \u001b[38;5;34m128\u001b[0m)            │           \u001b[38;5;34m512\u001b[0m │\n",
       "│ (\u001b[38;5;33mBatchNormalization\u001b[0m)            │                        │               │\n",
       "├─────────────────────────────────┼────────────────────────┼───────────────┤\n",
       "│ dropout (\u001b[38;5;33mDropout\u001b[0m)               │ (\u001b[38;5;45mNone\u001b[0m, \u001b[38;5;34m128\u001b[0m)            │             \u001b[38;5;34m0\u001b[0m │\n",
       "├─────────────────────────────────┼────────────────────────┼───────────────┤\n",
       "│ dense_3 (\u001b[38;5;33mDense\u001b[0m)                 │ (\u001b[38;5;45mNone\u001b[0m, \u001b[38;5;34m9\u001b[0m)              │         \u001b[38;5;34m1,161\u001b[0m │\n",
       "└─────────────────────────────────┴────────────────────────┴───────────────┘\n"
      ]
     },
     "metadata": {},
     "output_type": "display_data"
    },
    {
     "data": {
      "text/html": [
       "<pre style=\"white-space:pre;overflow-x:auto;line-height:normal;font-family:Menlo,'DejaVu Sans Mono',consolas,'Courier New',monospace\"><span style=\"font-weight: bold\"> Total params: </span><span style=\"color: #00af00; text-decoration-color: #00af00\">77,236,745</span> (294.63 MB)\n",
       "</pre>\n"
      ],
      "text/plain": [
       "\u001b[1m Total params: \u001b[0m\u001b[38;5;34m77,236,745\u001b[0m (294.63 MB)\n"
      ]
     },
     "metadata": {},
     "output_type": "display_data"
    },
    {
     "data": {
      "text/html": [
       "<pre style=\"white-space:pre;overflow-x:auto;line-height:normal;font-family:Menlo,'DejaVu Sans Mono',consolas,'Courier New',monospace\"><span style=\"font-weight: bold\"> Trainable params: </span><span style=\"color: #00af00; text-decoration-color: #00af00\">77,236,489</span> (294.63 MB)\n",
       "</pre>\n"
      ],
      "text/plain": [
       "\u001b[1m Trainable params: \u001b[0m\u001b[38;5;34m77,236,489\u001b[0m (294.63 MB)\n"
      ]
     },
     "metadata": {},
     "output_type": "display_data"
    },
    {
     "data": {
      "text/html": [
       "<pre style=\"white-space:pre;overflow-x:auto;line-height:normal;font-family:Menlo,'DejaVu Sans Mono',consolas,'Courier New',monospace\"><span style=\"font-weight: bold\"> Non-trainable params: </span><span style=\"color: #00af00; text-decoration-color: #00af00\">256</span> (1.00 KB)\n",
       "</pre>\n"
      ],
      "text/plain": [
       "\u001b[1m Non-trainable params: \u001b[0m\u001b[38;5;34m256\u001b[0m (1.00 KB)\n"
      ]
     },
     "metadata": {},
     "output_type": "display_data"
    }
   ],
   "source": [
    "model_ann = keras.Sequential([\n",
    "    layers.InputLayer(input_shape=(img_height, img_width, 3)),\n",
    "    layers.Flatten(),\n",
    "    layers.Dense(512, activation='relu'), #512 katmanlı Nöral Ağ oluşturmak \n",
    "    \n",
    "    layers.Dense(256, activation='relu'), # Relu: Negatif değerleri sıfıra çeker\n",
    "\n",
    "    layers.Dense(128, activation='relu'), #128 katmanlı Nöral Ağ oluşturmak \n",
    "    layers.BatchNormalization(),   # Daha hızlı eğitim yapabilmek için\n",
    "    layers.Dropout(0.5),           # Overfitting'i azaltmak için\n",
    "    \n",
    "    \n",
    "    layers.Dense(num_classes, activation='softmax')\n",
    "])\n",
    "\n",
    "# Compile the model\n",
    "model_ann.compile(\n",
    "    optimizer='adam', # Dinamik öğrenme oranı sağlar\n",
    "    loss='categorical_crossentropy', # [1, 0, 0], [0, 1, 0], [0, 0, 1] gibi veriler için modelin hatasını (Loss) hesaplar\n",
    "    metrics=['accuracy'])\n",
    "\n",
    "# Print model summary\n",
    "model_ann.summary()"
   ]
  },
  {
   "cell_type": "markdown",
   "id": "eac5edf6",
   "metadata": {
    "papermill": {
     "duration": 0.00591,
     "end_time": "2024-10-22T22:13:02.346838",
     "exception": false,
     "start_time": "2024-10-22T22:13:02.340928",
     "status": "completed"
    },
    "tags": []
   },
   "source": [
    "# ANN algoritmasını veri setimiz ile eğittiğimiz alandır "
   ]
  },
  {
   "cell_type": "code",
   "execution_count": 10,
   "id": "017371c1",
   "metadata": {
    "execution": {
     "iopub.execute_input": "2024-10-22T22:13:02.360904Z",
     "iopub.status.busy": "2024-10-22T22:13:02.360470Z",
     "iopub.status.idle": "2024-10-22T23:11:53.240765Z",
     "shell.execute_reply": "2024-10-22T23:11:53.238781Z"
    },
    "papermill": {
     "duration": 3530.891761,
     "end_time": "2024-10-22T23:11:53.244806",
     "exception": false,
     "start_time": "2024-10-22T22:13:02.353045",
     "status": "completed"
    },
    "tags": []
   },
   "outputs": [
    {
     "name": "stdout",
     "output_type": "stream",
     "text": [
      "Epoch 1/15\n"
     ]
    },
    {
     "name": "stderr",
     "output_type": "stream",
     "text": [
      "/opt/conda/lib/python3.10/site-packages/keras/src/trainers/data_adapters/py_dataset_adapter.py:121: UserWarning: Your `PyDataset` class should call `super().__init__(**kwargs)` in its constructor. `**kwargs` can include `workers`, `use_multiprocessing`, `max_queue_size`. Do not pass these arguments to `fit()`, as they will be ignored.\n",
      "  self._warn_if_super_not_called()\n"
     ]
    },
    {
     "name": "stdout",
     "output_type": "stream",
     "text": [
      "\u001b[1m450/450\u001b[0m \u001b[32m━━━━━━━━━━━━━━━━━━━━\u001b[0m\u001b[37m\u001b[0m \u001b[1m446s\u001b[0m 980ms/step - accuracy: 0.2291 - loss: 2.1417 - val_accuracy: 0.3644 - val_loss: 1.7518\n",
      "Epoch 2/15\n",
      "\u001b[1m450/450\u001b[0m \u001b[32m━━━━━━━━━━━━━━━━━━━━\u001b[0m\u001b[37m\u001b[0m \u001b[1m468s\u001b[0m 1s/step - accuracy: 0.4415 - loss: 1.5038 - val_accuracy: 0.3150 - val_loss: 2.0552\n",
      "Epoch 3/15\n",
      "\u001b[1m450/450\u001b[0m \u001b[32m━━━━━━━━━━━━━━━━━━━━\u001b[0m\u001b[37m\u001b[0m \u001b[1m458s\u001b[0m 1s/step - accuracy: 0.5258 - loss: 1.2878 - val_accuracy: 0.4472 - val_loss: 1.3631\n",
      "Epoch 4/15\n",
      "\u001b[1m450/450\u001b[0m \u001b[32m━━━━━━━━━━━━━━━━━━━━\u001b[0m\u001b[37m\u001b[0m \u001b[1m430s\u001b[0m 952ms/step - accuracy: 0.6009 - loss: 1.1039 - val_accuracy: 0.5461 - val_loss: 1.3480\n",
      "Epoch 5/15\n",
      "\u001b[1m450/450\u001b[0m \u001b[32m━━━━━━━━━━━━━━━━━━━━\u001b[0m\u001b[37m\u001b[0m \u001b[1m434s\u001b[0m 962ms/step - accuracy: 0.6388 - loss: 0.9988 - val_accuracy: 0.6258 - val_loss: 1.0011\n",
      "Epoch 6/15\n",
      "\u001b[1m450/450\u001b[0m \u001b[32m━━━━━━━━━━━━━━━━━━━━\u001b[0m\u001b[37m\u001b[0m \u001b[1m429s\u001b[0m 950ms/step - accuracy: 0.6943 - loss: 0.8556 - val_accuracy: 0.6014 - val_loss: 1.3075\n",
      "Epoch 7/15\n",
      "\u001b[1m450/450\u001b[0m \u001b[32m━━━━━━━━━━━━━━━━━━━━\u001b[0m\u001b[37m\u001b[0m \u001b[1m432s\u001b[0m 957ms/step - accuracy: 0.6756 - loss: 0.9423 - val_accuracy: 0.1856 - val_loss: 3.3120\n",
      "Epoch 8/15\n",
      "\u001b[1m450/450\u001b[0m \u001b[32m━━━━━━━━━━━━━━━━━━━━\u001b[0m\u001b[37m\u001b[0m \u001b[1m431s\u001b[0m 955ms/step - accuracy: 0.5203 - loss: 1.2932 - val_accuracy: 0.3917 - val_loss: 1.6659\n"
     ]
    }
   ],
   "source": [
    "from tensorflow.keras.callbacks import EarlyStopping\n",
    "\n",
    "early_stopping = EarlyStopping(monitor='val_loss', patience=3, restore_best_weights=True)\n",
    "# Patience: Eğitimin gelişme göstermemesine olan sabırdır \n",
    "# restore_best_weights=True modelin en sağlıklı olduğu duruma geri dönüş sağlamayı sağlar\n",
    "# Modeli eğitirken Callback ile koruyoruz\n",
    "history = model_ann.fit(\n",
    "    train_generator,\n",
    "    validation_data=validation_generator,\n",
    "    epochs=15, \n",
    "    callbacks=[early_stopping]  # Eğitimi gelişme göstermez ise durdurmak içindir\n",
    ")\n"
   ]
  },
  {
   "cell_type": "markdown",
   "id": "d2f6f155",
   "metadata": {
    "papermill": {
     "duration": 0.247104,
     "end_time": "2024-10-22T23:11:53.739237",
     "exception": false,
     "start_time": "2024-10-22T23:11:53.492133",
     "status": "completed"
    },
    "tags": []
   },
   "source": [
    "# ANN algoritmasının veri setini ne kadar öğrendiğini denetlemek için ayırdığımız onaylama verileriyle yaptığı test süreci"
   ]
  },
  {
   "cell_type": "code",
   "execution_count": 11,
   "id": "dbab7ad6",
   "metadata": {
    "execution": {
     "iopub.execute_input": "2024-10-22T23:11:54.237434Z",
     "iopub.status.busy": "2024-10-22T23:11:54.235583Z",
     "iopub.status.idle": "2024-10-22T23:12:41.384451Z",
     "shell.execute_reply": "2024-10-22T23:12:41.383099Z"
    },
    "papermill": {
     "duration": 47.401444,
     "end_time": "2024-10-22T23:12:41.387177",
     "exception": false,
     "start_time": "2024-10-22T23:11:53.985733",
     "status": "completed"
    },
    "tags": []
   },
   "outputs": [
    {
     "name": "stdout",
     "output_type": "stream",
     "text": [
      "\u001b[1m113/113\u001b[0m \u001b[32m━━━━━━━━━━━━━━━━━━━━\u001b[0m\u001b[37m\u001b[0m \u001b[1m46s\u001b[0m 409ms/step - accuracy: 0.6366 - loss: 0.9741\n",
      "Validation loss: 1.0010766983032227\n",
      "Validation accuracy: 0.6258333325386047\n"
     ]
    }
   ],
   "source": [
    "# Evaluate the model\n",
    "loss, accuracy = model_ann.evaluate(validation_generator)\n",
    "print(f'Validation loss: {loss}')\n",
    "print(f'Validation accuracy: {accuracy}')"
   ]
  },
  {
   "cell_type": "markdown",
   "id": "be59de5c",
   "metadata": {
    "papermill": {
     "duration": 0.254943,
     "end_time": "2024-10-22T23:12:41.896182",
     "exception": false,
     "start_time": "2024-10-22T23:12:41.641239",
     "status": "completed"
    },
    "tags": []
   },
   "source": [
    "# ANN algoritmasının Epoch başarı (Loss ve Accuracy) değeri için oluşturduğumuz grafiktir"
   ]
  },
  {
   "cell_type": "code",
   "execution_count": 12,
   "id": "0b581ced",
   "metadata": {
    "execution": {
     "iopub.execute_input": "2024-10-22T23:12:42.405205Z",
     "iopub.status.busy": "2024-10-22T23:12:42.404012Z",
     "iopub.status.idle": "2024-10-22T23:12:45.205726Z",
     "shell.execute_reply": "2024-10-22T23:12:45.204357Z"
    },
    "papermill": {
     "duration": 3.058694,
     "end_time": "2024-10-22T23:12:45.208377",
     "exception": false,
     "start_time": "2024-10-22T23:12:42.149683",
     "status": "completed"
    },
    "tags": []
   },
   "outputs": [
    {
     "name": "stderr",
     "output_type": "stream",
     "text": [
      "/opt/conda/lib/python3.10/site-packages/seaborn/_oldcore.py:1119: FutureWarning: use_inf_as_na option is deprecated and will be removed in a future version. Convert inf values to NaN before operating instead.\n",
      "  with pd.option_context('mode.use_inf_as_na', True):\n",
      "/opt/conda/lib/python3.10/site-packages/seaborn/_oldcore.py:1119: FutureWarning: use_inf_as_na option is deprecated and will be removed in a future version. Convert inf values to NaN before operating instead.\n",
      "  with pd.option_context('mode.use_inf_as_na', True):\n",
      "/opt/conda/lib/python3.10/site-packages/seaborn/_oldcore.py:1119: FutureWarning: use_inf_as_na option is deprecated and will be removed in a future version. Convert inf values to NaN before operating instead.\n",
      "  with pd.option_context('mode.use_inf_as_na', True):\n",
      "/opt/conda/lib/python3.10/site-packages/seaborn/_oldcore.py:1119: FutureWarning: use_inf_as_na option is deprecated and will be removed in a future version. Convert inf values to NaN before operating instead.\n",
      "  with pd.option_context('mode.use_inf_as_na', True):\n"
     ]
    },
    {
     "data": {
      "image/png": "[encoded data removed]",
      "text/plain": [
       "<Figure size 2000x500 with 2 Axes>"
      ]
     },
     "metadata": {},
     "output_type": "display_data"
    }
   ],
   "source": [
    "import seaborn as sns\n",
    "import matplotlib.pyplot as plt\n",
    "import pandas as pd\n",
    "\n",
    "# Eğitim geçmişini DataFrame'e çevir\n",
    "history_df = pd.DataFrame(history.history)\n",
    "\n",
    "# Sonsuz (inf) değerleri NaN olarak değiştir\n",
    "history_df.replace([np.inf, -np.inf], np.nan, inplace=True)\n",
    "\n",
    "# NaN değerlerini gerekirse doldur veya yok say\n",
    "history_df.dropna(inplace=True)\n",
    "\n",
    "# Grafik çizimi\n",
    "sns.set(style=\"whitegrid\")\n",
    "fig, ax = plt.subplots(1, 2, figsize=(20, 5))\n",
    "\n",
    "# Loss grafiği\n",
    "sns.lineplot(data=history_df[['loss', 'val_loss']], ax=ax[0])\n",
    "ax[0].set_title('Training and Validation Loss')\n",
    "ax[0].set_xlabel('Epochs')\n",
    "ax[0].set_ylabel('Loss')\n",
    "\n",
    "# Accuracy grafiği\n",
    "sns.lineplot(data=history_df[['accuracy', 'val_accuracy']], ax=ax[1])\n",
    "ax[1].set_title('Training and Validation Accuracy')\n",
    "ax[1].set_xlabel('Epochs')\n",
    "ax[1].set_ylabel('Accuracy')\n",
    "\n",
    "plt.show()\n"
   ]
  }
 ],
 "metadata": {
  "kaggle": {
   "accelerator": "none",
   "dataSources": [
    {
     "datasetId": 1165452,
     "sourceId": 2170465,
     "sourceType": "datasetVersion"
    }
   ],
   "dockerImageVersionId": 30786,
   "isGpuEnabled": false,
   "isInternetEnabled": false,
   "language": "python",
   "sourceType": "notebook"
  },
  "kernelspec": {
   "display_name": "Python 3",
   "language": "python",
   "name": "python3"
  },
  "language_info": {
   "codemirror_mode": {
    "name": "ipython",
    "version": 3
   },
   "file_extension": ".py",
   "mimetype": "text/x-python",
   "name": "python",
   "nbconvert_exporter": "python",
   "pygments_lexer": "ipython3",
   "version": "3.10.14"
  },
  "papermill": {
   "default_parameters": {},
   "duration": 3607.657059,
   "end_time": "2024-10-22T23:12:47.418183",
   "environment_variables": {},
   "exception": null,
   "input_path": "__notebook__.ipynb",
   "output_path": "__notebook__.ipynb",
   "parameters": {},
   "start_time": "2024-10-22T22:12:39.761124",
   "version": "2.6.0"
  }
 },
 "nbformat": 4,
 "nbformat_minor": 5
}
